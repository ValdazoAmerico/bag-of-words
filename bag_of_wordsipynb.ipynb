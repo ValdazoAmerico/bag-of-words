{
  "nbformat": 4,
  "nbformat_minor": 0,
  "metadata": {
    "colab": {
      "name": "bag-of-wordsipynb",
      "provenance": [],
      "authorship_tag": "ABX9TyOxtT+cayKDtm9ZE4KMxcDJ",
      "include_colab_link": true
    },
    "kernelspec": {
      "name": "python3",
      "display_name": "Python 3"
    },
    "language_info": {
      "name": "python"
    }
  },
  "cells": [
    {
      "cell_type": "markdown",
      "metadata": {
        "id": "view-in-github",
        "colab_type": "text"
      },
      "source": [
        "<a href=\"https://colab.research.google.com/github/ValdazoAmerico/bag-of-words/blob/main/bag_of_wordsipynb.ipynb\" target=\"_parent\"><img src=\"https://colab.research.google.com/assets/colab-badge.svg\" alt=\"Open In Colab\"/></a>"
      ]
    },
    {
      "cell_type": "code",
      "metadata": {
        "id": "r5K68ifTZHnE"
      },
      "source": [
        "import nltk\n",
        "import numpy as np\n",
        "import random\n",
        "import string\n",
        "\n",
        "import bs4 as bs\n",
        "import urllib.request\n",
        "import re"
      ],
      "execution_count": 1,
      "outputs": []
    },
    {
      "cell_type": "code",
      "metadata": {
        "id": "s4y3bH0HZV-m"
      },
      "source": [
        "raw_html = urllib.request.urlopen('https://en.wikipedia.org/wiki/Natural_language_processing')\n",
        "raw_html = raw_html.read()\n",
        "\n",
        "article_html = bs.BeautifulSoup(raw_html,'lxml')\n",
        "\n",
        "article_paragraphs = article_html.find_all('p')\n",
        "\n",
        "article_text = ''\n",
        "\n",
        "for para in article_paragraphs:\n",
        "  article_text += para.text"
      ],
      "execution_count": 10,
      "outputs": []
    },
    {
      "cell_type": "code",
      "metadata": {
        "colab": {
          "base_uri": "https://localhost:8080/"
        },
        "id": "QblYqQoKal9z",
        "outputId": "b7fe0040-6c35-4f50-83d1-8dcc6d31e1c8"
      },
      "source": [
        " nltk.download('punkt')"
      ],
      "execution_count": 12,
      "outputs": [
        {
          "output_type": "stream",
          "text": [
            "[nltk_data] Downloading package punkt to /root/nltk_data...\n",
            "[nltk_data]   Unzipping tokenizers/punkt.zip.\n"
          ],
          "name": "stdout"
        },
        {
          "output_type": "execute_result",
          "data": {
            "text/plain": [
              "True"
            ]
          },
          "metadata": {
            "tags": []
          },
          "execution_count": 12
        }
      ]
    },
    {
      "cell_type": "code",
      "metadata": {
        "id": "kRKvCwIJZ4eB"
      },
      "source": [
        "corpus = nltk.sent_tokenize(article_text)"
      ],
      "execution_count": 13,
      "outputs": []
    },
    {
      "cell_type": "code",
      "metadata": {
        "id": "JDGLEuToadGC"
      },
      "source": [
        "for i in range(len(corpus)):\n",
        "  corpus[i] = corpus[i].lower()\n",
        "  corpus[i] = re.sub(r'\\W', ' ',corpus[i])\n",
        "  corpus[i] = re.sub(r'\\s+',' ',corpus[i])"
      ],
      "execution_count": 15,
      "outputs": []
    },
    {
      "cell_type": "code",
      "metadata": {
        "colab": {
          "base_uri": "https://localhost:8080/"
        },
        "id": "jqhMlLfua6Ma",
        "outputId": "0d3ea37d-1de4-4ab1-d48f-c7bc22bec4d0"
      },
      "source": [
        "print(len(corpus))"
      ],
      "execution_count": 17,
      "outputs": [
        {
          "output_type": "stream",
          "text": [
            "49\n"
          ],
          "name": "stdout"
        }
      ]
    },
    {
      "cell_type": "code",
      "metadata": {
        "colab": {
          "base_uri": "https://localhost:8080/",
          "height": 52
        },
        "id": "YNM2r-kcbCOL",
        "outputId": "d9b78f60-a789-4ff8-af55-0aeb2a0752f0"
      },
      "source": [
        "corpus[30]"
      ],
      "execution_count": 18,
      "outputs": [
        {
          "output_type": "execute_result",
          "data": {
            "application/vnd.google.colaboratory.intrinsic+json": {
              "type": "string"
            },
            "text/plain": [
              "'in some areas this shift has entailed substantial changes in how nlp systems are designed such that deep neural network based approaches may be viewed as a new paradigm distinct from statistical natural language processing '"
            ]
          },
          "metadata": {
            "tags": []
          },
          "execution_count": 18
        }
      ]
    },
    {
      "cell_type": "code",
      "metadata": {
        "id": "vIj8wR3EbEbG"
      },
      "source": [
        "wordfreq = {}\n",
        "for sentence in corpus:\n",
        "  tokens = nltk.word_tokenize(sentence)\n",
        "  for token in tokens:\n",
        "    if token not in wordfreq.keys():\n",
        "      wordfreq[token] = 1\n",
        "    else:\n",
        "      wordfreq[token] += 1"
      ],
      "execution_count": 19,
      "outputs": []
    },
    {
      "cell_type": "code",
      "metadata": {
        "id": "CFi-qh_xbcu_"
      },
      "source": [
        "import heapq\n",
        "most_freq = heapq.nlargest(200, wordfreq, key=wordfreq.get)"
      ],
      "execution_count": 21,
      "outputs": []
    },
    {
      "cell_type": "code",
      "metadata": {
        "id": "D86_wn5qcDsM"
      },
      "source": [
        "sentence_vectors = []\n",
        "for sentence in corpus:\n",
        "  sentence_tokens = nltk.word_tokenize(sentence)\n",
        "  sent_vec = []\n",
        "  for token in most_freq:\n",
        "    if token in sentence_tokens:\n",
        "      sent_vec.append(1)\n",
        "    else:\n",
        "      sent_vec.append(0)\n",
        "  sentence_vectors.append(sent_vec)"
      ],
      "execution_count": 24,
      "outputs": []
    },
    {
      "cell_type": "code",
      "metadata": {
        "id": "U6aIRE5acZLq"
      },
      "source": [
        "sentence_vectors = np.asarray(sentence_vectors)"
      ],
      "execution_count": 26,
      "outputs": []
    },
    {
      "cell_type": "code",
      "metadata": {
        "colab": {
          "base_uri": "https://localhost:8080/"
        },
        "id": "NOtT4GSdcccR",
        "outputId": "03acc4d4-8c74-4217-fd61-7d27388544f4"
      },
      "source": [
        "sentence_vectors"
      ],
      "execution_count": 27,
      "outputs": [
        {
          "output_type": "execute_result",
          "data": {
            "text/plain": [
              "array([[1, 1, 1, ..., 0, 0, 0],\n",
              "       [1, 1, 0, ..., 1, 0, 0],\n",
              "       [0, 1, 1, ..., 0, 1, 1],\n",
              "       ...,\n",
              "       [1, 1, 0, ..., 0, 0, 0],\n",
              "       [1, 0, 0, ..., 0, 0, 0],\n",
              "       [0, 0, 0, ..., 0, 0, 0]])"
            ]
          },
          "metadata": {
            "tags": []
          },
          "execution_count": 27
        }
      ]
    },
    {
      "cell_type": "code",
      "metadata": {
        "id": "WQbvCjTAclTS"
      },
      "source": [
        ""
      ],
      "execution_count": null,
      "outputs": []
    }
  ]
}